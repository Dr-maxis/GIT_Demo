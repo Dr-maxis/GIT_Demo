{
 "cells": [
  {
   "cell_type": "markdown",
   "id": "fda4a2b2",
   "metadata": {},
   "source": [
    "## Project 0 - Creating Z-scores from scratch\n",
    "\n",
    "In this [DEMO project](https://github.com/Alex-Caian/GIT_Demo) we will create Z-scores from scratch. We will test it our manual calculations against another library to check the results.\n",
    "\n",
    "This project only consists of two parts:\n",
    "\n",
    "1. Generating Z-scores\n",
    "\n",
    "2. Testing the Z-scores\n",
    "\n",
    "We'll start by importing necessary libraries."
   ]
  },
  {
   "cell_type": "code",
   "execution_count": 1,
   "id": "f8685d66",
   "metadata": {},
   "outputs": [],
   "source": [
    "import numpy as np ## For math \n",
    "import math ## For math \n",
    "\n",
    "from sklearn.preprocessing import StandardScaler ## For testing our results"
   ]
  },
  {
   "cell_type": "markdown",
   "id": "d426e703",
   "metadata": {},
   "source": [
    "### Part 1 - Generating Z-scores"
   ]
  },
  {
   "cell_type": "markdown",
   "id": "ddd9ee3a",
   "metadata": {},
   "source": [
    "We first define a couple of cases to test on, in the form of arrays/lists:"
   ]
  },
  {
   "cell_type": "code",
   "execution_count": 2,
   "id": "a0e4f8c9",
   "metadata": {},
   "outputs": [],
   "source": [
    "test1 = [1,5,2,6,7,2,3,6,2,1,0]\n",
    "test2 = [3,3,2,6,2,2,4]\n",
    "test3 = [1,2,5,3,3,6,7,5,14,35,2,1,4,6,2,99]"
   ]
  },
  {
   "cell_type": "markdown",
   "id": "b603a610",
   "metadata": {},
   "source": [
    "First, we need to know the formula for Z scores:\n",
    "\n",
    "<img src=\"https://github.com/Alex-Caian/GIT_Demo/blob/main/Zscore.png?raw=True\" />"
   ]
  },
  {
   "cell_type": "markdown",
   "id": "0558b4de",
   "metadata": {},
   "source": [
    "As per the formula, there are two elements we need to know:\n",
    "\n",
    "> The mean\n",
    "\n",
    "> The standard deviation\n",
    "\n",
    "Let's start with the easier one.\n",
    "\n",
    "#### The mean"
   ]
  },
  {
   "cell_type": "code",
   "execution_count": 6,
   "id": "169ceea1",
   "metadata": {},
   "outputs": [],
   "source": [
    "def mean(array):\n",
    "    assert(hasattr(array, '__iter__')), \"Not an iterable.\"\n",
    "    if len(array) == 0:\n",
    "        return 0\n",
    "    return sum(array)/len(array)"
   ]
  },
  {
   "cell_type": "code",
   "execution_count": 7,
   "id": "0c7cb3e7",
   "metadata": {},
   "outputs": [
    {
     "data": {
      "text/plain": "3.1818181818181817"
     },
     "execution_count": 7,
     "metadata": {},
     "output_type": "execute_result"
    }
   ],
   "source": [
    "## Run a test to check that it works\n",
    "mean(test1)"
   ]
  },
  {
   "cell_type": "code",
   "execution_count": 8,
   "id": "3dabd839",
   "metadata": {},
   "outputs": [
    {
     "data": {
      "text/plain": "0"
     },
     "execution_count": 8,
     "metadata": {},
     "output_type": "execute_result"
    }
   ],
   "source": [
    "## This one breaks.. need to look over it again?\n",
    "mean([])\n",
    "## Change 1"
   ]
  },
  {
   "cell_type": "markdown",
   "id": "1e063f62",
   "metadata": {},
   "source": [
    "Next up, the standard deviation. \n",
    "\n",
    "<img src=\"https://github.com/Alex-Caian/GIT_Demo/blob/main/stdev.png?raw=true\" />\n",
    "\n",
    "Once again, we need to make use of the mean. Good thing we defined the function already!\n",
    "\n",
    "#### The standard deviation"
   ]
  },
  {
   "cell_type": "code",
   "execution_count": 9,
   "id": "498b6321",
   "metadata": {},
   "outputs": [],
   "source": [
    "def stdev(array):\n",
    "    numerator = sum([(number - mean(array))**2 for number in array])\n",
    "    denominator = len(array)\n",
    "    return np.sqrt(numerator/denominator)"
   ]
  },
  {
   "cell_type": "code",
   "execution_count": 10,
   "id": "4adff964",
   "metadata": {},
   "outputs": [
    {
     "data": {
      "text/plain": "2.289032420366213"
     },
     "execution_count": 10,
     "metadata": {},
     "output_type": "execute_result"
    }
   ],
   "source": [
    "## Again, run a test to check it works:\n",
    "stdev(test1)\n",
    "## Change 2"
   ]
  },
  {
   "cell_type": "markdown",
   "id": "614803df",
   "metadata": {},
   "source": [
    "Finally, we can bring them together to generate the Z-scores for our array!"
   ]
  },
  {
   "cell_type": "code",
   "execution_count": 11,
   "id": "f0088d57",
   "metadata": {},
   "outputs": [],
   "source": [
    "def Zscore(array):\n",
    "    return [(number - mean(array))/stdev(array) for number in array]"
   ]
  },
  {
   "cell_type": "code",
   "execution_count": 12,
   "id": "b525e5df",
   "metadata": {},
   "outputs": [
    {
     "data": {
      "text/plain": "[-0.9531617649474451,\n 0.7943014707895377,\n -0.5162959560131993,\n 1.2311672797237834,\n 1.668033088658029,\n -0.5162959560131993,\n -0.07943014707895368,\n 1.2311672797237834,\n -0.5162959560131993,\n -0.9531617649474451,\n -1.3900275738816907]"
     },
     "execution_count": 12,
     "metadata": {},
     "output_type": "execute_result"
    }
   ],
   "source": [
    "## Initial sanity test\n",
    "Zscore(test1)"
   ]
  },
  {
   "cell_type": "markdown",
   "id": "3c3daa53",
   "metadata": {},
   "source": [
    "### Part 2 - Testing our results\n",
    "\n",
    "In this part we will test the results of our Zscores against the standardscaler. We start by initialising a standard scaler and transforming the test case."
   ]
  },
  {
   "cell_type": "code",
   "execution_count": 13,
   "id": "9542ad48",
   "metadata": {},
   "outputs": [
    {
     "name": "stdout",
     "output_type": "stream",
     "text": [
      "[[-0.95316176]\n",
      " [ 0.79430147]\n",
      " [-0.51629596]\n",
      " [ 1.23116728]\n",
      " [ 1.66803309]\n",
      " [-0.51629596]\n",
      " [-0.07943015]\n",
      " [ 1.23116728]\n",
      " [-0.51629596]\n",
      " [-0.95316176]\n",
      " [-1.39002757]]\n"
     ]
    }
   ],
   "source": [
    "st = StandardScaler() ## Create\n",
    "test1 = np.array(test1) ## Make it into an array\n",
    "test1 = test1.reshape(-1,1) ## Reshape it\n",
    "\n",
    "Ztest1 = st.fit_transform(test1) ## Transform\n",
    "print(Ztest1) ## Print results"
   ]
  },
  {
   "cell_type": "markdown",
   "id": "0cd53a9a",
   "metadata": {},
   "source": [
    "Let's test that it worked:"
   ]
  },
  {
   "cell_type": "code",
   "execution_count": 14,
   "id": "65636038",
   "metadata": {},
   "outputs": [
    {
     "data": {
      "text/plain": "array([[ True],\n       [ True],\n       [ True],\n       [ True],\n       [ True],\n       [ True],\n       [ True],\n       [ True],\n       [ True],\n       [ True],\n       [ True]])"
     },
     "execution_count": 14,
     "metadata": {},
     "output_type": "execute_result"
    }
   ],
   "source": [
    "np.array(Zscore(test1)) == Ztest1"
   ]
  },
  {
   "cell_type": "markdown",
   "id": "4f4a076f",
   "metadata": {},
   "source": [
    "Time to do test the other ones too! Can we find a nicer way to test if the results are the same? If the array contains 100 numbers for example I don't want to output 100 values of True..."
   ]
  },
  {
   "cell_type": "code",
   "execution_count": null,
   "id": "a0e1bec6",
   "metadata": {},
   "outputs": [],
   "source": [
    "## UNFINISHED WORK\n",
    "## CAN YOU HELP ME??"
   ]
  },
  {
   "cell_type": "code",
   "execution_count": 15,
   "id": "11ab90ab",
   "metadata": {},
   "outputs": [
    {
     "data": {
      "text/plain": "True"
     },
     "execution_count": 15,
     "metadata": {},
     "output_type": "execute_result"
    }
   ],
   "source": [
    "## Change 3??\n",
    "np.allclose(Zscore(test1), Ztest1)"
   ]
  },
  {
   "cell_type": "markdown",
   "id": "654ce702",
   "metadata": {},
   "source": [
    "### Part 3 - ???\n",
    "\n",
    "Is there anything else we could improve here? Oh, not the code! Sure.. can always improve that, but..\n",
    "\n",
    "**What would make this file even more readable?** Can YOU:\n",
    "(i had to go make food after this session so i wont be doing the busy work of cleaning ill just be pushing this for demonstration purposes to learn GIT thank you for the workshop as always ALEX!! ^_^)\n",
    "\n",
    "> Tidy it up more! Font, code structure, comments, markdown.. these make the difference between a project people will want to fork and use and one they will be scared to touch.\n",
    "\n",
    "> Update YOUR ReadME! ReadME's are important parts of any repo, so people know what they're looking at!\n",
    "\n",
    "> Documentation & referencing. This is obviously a trivial case, but we work with lots of models, algorithms & techniques! Make sure to keep a documentation file available as well.\n",
    "\n",
    "> Cleaning & project structure. We explained our steps quite in depth here for such an easy problem. But, again, your next project likely won't be finding some Z-scores!"
   ]
  },
  {
   "cell_type": "markdown",
   "id": "28f50bad",
   "metadata": {},
   "source": [
    "It's your turn!!\n",
    "\n",
    "Step 1. [Fork this repo](https://docs.github.com/en/get-started/quickstart/fork-a-repo)\n",
    "\n",
    "Step 2. Make all the changes you want to make\n",
    "\n",
    "Step 3. [Create a pull request](https://docs.github.com/en/desktop/contributing-and-collaborating-using-github-desktop/working-with-your-remote-repository-on-github-or-github-enterprise/creating-an-issue-or-pull-request) to help me update my work and make it better!\n",
    "\n",
    "Step 4. Love Github for the rest of your life! It's one of the most amazing collaborative technologies which allows you to build an online portfolio and store all your hard work forever. Get started with the Github community directly on [Github](https://github.com/community) and/or join us on [reddit](https://www.reddit.com/r/github/)!"
   ]
  }
 ],
 "metadata": {
  "kernelspec": {
   "display_name": "Python 3 (ipykernel)",
   "language": "python",
   "name": "python3"
  },
  "language_info": {
   "codemirror_mode": {
    "name": "ipython",
    "version": 3
   },
   "file_extension": ".py",
   "mimetype": "text/x-python",
   "name": "python",
   "nbconvert_exporter": "python",
   "pygments_lexer": "ipython3",
   "version": "3.9.12"
  }
 },
 "nbformat": 4,
 "nbformat_minor": 5
}
